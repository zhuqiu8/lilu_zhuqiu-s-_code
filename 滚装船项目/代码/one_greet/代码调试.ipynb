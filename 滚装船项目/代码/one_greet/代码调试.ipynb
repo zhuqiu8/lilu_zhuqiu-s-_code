{
 "cells": [
  {
   "cell_type": "code",
   "execution_count": null,
   "metadata": {},
   "outputs": [
    {
     "name": "stdout",
     "output_type": "stream",
     "text": [
      "主集合中的元素: 10\n",
      "  品牌: HMC\n",
      "    车型: HMC_VENUE, 宽度=2.2, 长度=4.4, 数量=241.0, 面积=9.68\n",
      "    车型: HMC_ELANTRA_HEV, 宽度=2.2, 长度=5.0, 数量=415.0, 面积=11.00\n",
      "    车型: HMC_KONA_HEV, 宽度=2.2, 长度=4.5, 数量=458.0, 面积=9.90\n",
      "  品牌: KIA\n",
      "    车型: KIA_STONIC, 宽度=2.2, 长度=4.5, 数量=211.0, 面积=9.90\n",
      "    车型: KIA_NIRO_HEV, 宽度=2.2, 长度=4.7, 数量=358.0, 面积=10.34\n",
      "    车型: KIA_SELTOS, 宽度=2.2, 长度=4.7, 数量=199.0, 面积=10.34\n",
      "主集合中的元素: 20\n",
      "  品牌: HMC\n",
      "    车型: HMC_VENUE, 宽度=2.2, 长度=4.4, 数量=241.0, 面积=9.68\n",
      "    车型: HMC_ELANTRA_HEV, 宽度=2.2, 长度=5.0, 数量=415.0, 面积=11.00\n",
      "    车型: HMC_KONA_HEV, 宽度=2.2, 长度=4.5, 数量=458.0, 面积=9.90\n",
      "  品牌: KIA\n",
      "    车型: KIA_STONIC, 宽度=2.2, 长度=4.5, 数量=211.0, 面积=9.90\n",
      "    车型: KIA_NIRO_HEV, 宽度=2.2, 长度=4.7, 数量=358.0, 面积=10.34\n",
      "    车型: KIA_SELTOS, 宽度=2.2, 长度=4.7, 数量=199.0, 面积=10.34\n",
      "主集合中的元素: 30\n",
      "  品牌: HMC\n",
      "    车型: HMC_VENUE, 宽度=2.2, 长度=4.4, 数量=241.0, 面积=9.68\n",
      "    车型: HMC_ELANTRA_HEV, 宽度=2.2, 长度=5.0, 数量=415.0, 面积=11.00\n",
      "    车型: HMC_KONA_HEV, 宽度=2.2, 长度=4.5, 数量=458.0, 面积=9.90\n",
      "  品牌: KIA\n",
      "    车型: KIA_STONIC, 宽度=2.2, 长度=4.5, 数量=211.0, 面积=9.90\n",
      "    车型: KIA_NIRO_HEV, 宽度=2.2, 长度=4.7, 数量=358.0, 面积=10.34\n",
      "    车型: KIA_SELTOS, 宽度=2.2, 长度=4.7, 数量=199.0, 面积=10.34\n"
     ]
    }
   ],
   "source": [
    "import numpy as np\n",
    "\n",
    "# 假设有一个主集合\n",
    "main_set = [10, 20, 30]  # 示例数据，长度为 n\n",
    "\n",
    "# 假设所有品牌对应的矩形集合，包含宽度、长度和数量\n",
    "all_rectangles = {\n",
    "    \"HMC\": {\n",
    "        \"HMC_VENUE\": np.array([2.2, 4.4, 241]),\n",
    "        \"HMC_ELANTRA_HEV\": np.array([2.2, 5.0, 415]),\n",
    "        \"HMC_KONA_HEV\": np.array([2.2, 4.5, 458])\n",
    "    },\n",
    "    \"KIA\": {\n",
    "        \"KIA_STONIC\": np.array([2.2, 4.5, 211]),\n",
    "        \"KIA_NIRO_HEV\": np.array([2.2, 4.7, 358]),\n",
    "        \"KIA_SELTOS\": np.array([2.2, 4.7, 199])\n",
    "    }\n",
    "}\n",
    "\n",
    "\n",
    "# 嵌套循环：遍历主集合的每个元素，随后遍历 all_rectangles 的所有品牌数据\n",
    "for element in main_set:  # 主集合循环\n",
    "    print(f\"主集合中的元素: {element}\")\n",
    "    for brand, cars in all_rectangles.items():  # 遍历品牌\n",
    "        print(f\"  品牌: {brand}\")\n",
    "        for car, data in cars.items():  # 遍历每个品牌下的车型\n",
    "            width, length, count = data  # 获取宽度、长度和数量\n",
    "            print(f\"    车型: {car}, 宽度={width}, 长度={length}, 数量={count}, 面积={width * length:.2f}\")\n"
   ]
  },
  {
   "cell_type": "code",
   "execution_count": null,
   "metadata": {},
   "outputs": [],
   "source": []
  }
 ],
 "metadata": {
  "kernelspec": {
   "display_name": "gunzhuangchuan",
   "language": "python",
   "name": "python3"
  },
  "language_info": {
   "codemirror_mode": {
    "name": "ipython",
    "version": 3
   },
   "file_extension": ".py",
   "mimetype": "text/x-python",
   "name": "python",
   "nbconvert_exporter": "python",
   "pygments_lexer": "ipython3",
   "version": "3.10.15"
  }
 },
 "nbformat": 4,
 "nbformat_minor": 2
}
