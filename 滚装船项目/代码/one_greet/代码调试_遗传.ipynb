{
 "cells": [
  {
   "cell_type": "code",
   "execution_count": null,
   "metadata": {},
   "outputs": [],
   "source": [
    "from genetic_algorithm_max_rectangles import genetic_algorithm_max_rectangles\n",
    "W, H = 10, 10\n",
    "rectangles = {\n",
    "    (2, 3): 5,\n",
    "    (3, 2): 5,\n",
    "    (1, 1): 20\n",
    "}\n",
    "solution, max_count = genetic_algorithm_max_rectangles(W, H, rectangles)\n",
    "print(\"最大放置数量:\", max_count)\n",
    "print(\"放置方案:\", solution)\n"
   ]
  }
 ],
 "metadata": {
  "language_info": {
   "name": "python"
  }
 },
 "nbformat": 4,
 "nbformat_minor": 2
}
